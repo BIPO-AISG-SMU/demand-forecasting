{
 "cells": [
  {
   "attachments": {},
   "cell_type": "markdown",
   "metadata": {},
   "source": [
    "# LSTM (TSAI) Baseline Model - 4 bins\n",
    "\n",
    "This LSTM model is based on the [tsai library](https://timeseriesai.github.io/tsai/)."
   ]
  },
  {
   "cell_type": "code",
   "execution_count": null,
   "metadata": {},
   "outputs": [],
   "source": [
    "%%time\n",
    "import random\n",
    "import pandas as pd\n",
    "import numpy as np\n",
    "import torch\n",
    "from tsai.all import *\n",
    "from pathlib import Path\n",
    "from sklearn.metrics import (\n",
    "    confusion_matrix,\n",
    "    accuracy_score,\n",
    "    precision_score,\n",
    "    recall_score,\n",
    ")\n",
    "import matplotlib.pyplot as plt\n",
    "import seaborn as sns"
   ]
  },
  {
   "cell_type": "code",
   "execution_count": null,
   "metadata": {},
   "outputs": [
    {
     "name": "stdout",
     "output_type": "stream",
     "text": [
      "X_train, X_test shape <class 'pandas.core.frame.DataFrame'> (33783, 91) <class 'pandas.core.frame.DataFrame'> (8418, 91)\n"
     ]
    },
    {
     "data": {
      "text/html": [
       "\n",
       "<style>\n",
       "    /* Turns off some styling */\n",
       "    progress {\n",
       "        /* gets rid of default border in Firefox and Opera. */\n",
       "        border: none;\n",
       "        /* Needs to be in here for Safari polyfill so background images work as expected. */\n",
       "        background-size: auto;\n",
       "    }\n",
       "    progress:not([value]), progress:not([value])::-webkit-progress-bar {\n",
       "        background: repeating-linear-gradient(45deg, #7e7e7e, #7e7e7e 10px, #5c5c5c 10px, #5c5c5c 20px);\n",
       "    }\n",
       "    .progress-bar-interrupted, .progress-bar-interrupted::-webkit-progress-bar {\n",
       "        background: #F44336;\n",
       "    }\n",
       "</style>\n"
      ],
      "text/plain": [
       "<IPython.core.display.HTML object>"
      ]
     },
     "metadata": {},
     "output_type": "display_data"
    },
    {
     "data": {
      "text/html": [
       "<table border=\"1\" class=\"dataframe\">\n",
       "  <thead>\n",
       "    <tr style=\"text-align: left;\">\n",
       "      <th>epoch</th>\n",
       "      <th>train_loss</th>\n",
       "      <th>valid_loss</th>\n",
       "      <th>accuracy</th>\n",
       "      <th>time</th>\n",
       "    </tr>\n",
       "  </thead>\n",
       "  <tbody>\n",
       "    <tr>\n",
       "      <td>0</td>\n",
       "      <td>1.291332</td>\n",
       "      <td>1.267684</td>\n",
       "      <td>0.415063</td>\n",
       "      <td>00:16</td>\n",
       "    </tr>\n",
       "    <tr>\n",
       "      <td>1</td>\n",
       "      <td>1.138165</td>\n",
       "      <td>1.160135</td>\n",
       "      <td>0.455334</td>\n",
       "      <td>00:19</td>\n",
       "    </tr>\n",
       "    <tr>\n",
       "      <td>2</td>\n",
       "      <td>1.127357</td>\n",
       "      <td>1.174511</td>\n",
       "      <td>0.447493</td>\n",
       "      <td>00:18</td>\n",
       "    </tr>\n",
       "    <tr>\n",
       "      <td>3</td>\n",
       "      <td>1.116565</td>\n",
       "      <td>1.155104</td>\n",
       "      <td>0.454146</td>\n",
       "      <td>00:18</td>\n",
       "    </tr>\n",
       "    <tr>\n",
       "      <td>4</td>\n",
       "      <td>1.124688</td>\n",
       "      <td>1.151581</td>\n",
       "      <td>0.457116</td>\n",
       "      <td>00:18</td>\n",
       "    </tr>\n",
       "    <tr>\n",
       "      <td>5</td>\n",
       "      <td>1.128561</td>\n",
       "      <td>1.162158</td>\n",
       "      <td>0.438584</td>\n",
       "      <td>00:20</td>\n",
       "    </tr>\n",
       "    <tr>\n",
       "      <td>6</td>\n",
       "      <td>1.094869</td>\n",
       "      <td>1.142839</td>\n",
       "      <td>0.463887</td>\n",
       "      <td>00:18</td>\n",
       "    </tr>\n",
       "    <tr>\n",
       "      <td>7</td>\n",
       "      <td>1.075842</td>\n",
       "      <td>1.150567</td>\n",
       "      <td>0.461036</td>\n",
       "      <td>00:18</td>\n",
       "    </tr>\n",
       "    <tr>\n",
       "      <td>8</td>\n",
       "      <td>1.090504</td>\n",
       "      <td>1.129554</td>\n",
       "      <td>0.464362</td>\n",
       "      <td>00:19</td>\n",
       "    </tr>\n",
       "    <tr>\n",
       "      <td>9</td>\n",
       "      <td>1.082782</td>\n",
       "      <td>1.138482</td>\n",
       "      <td>0.458422</td>\n",
       "      <td>00:29</td>\n",
       "    </tr>\n",
       "    <tr>\n",
       "      <td>10</td>\n",
       "      <td>1.084401</td>\n",
       "      <td>1.132855</td>\n",
       "      <td>0.468520</td>\n",
       "      <td>00:28</td>\n",
       "    </tr>\n",
       "    <tr>\n",
       "      <td>11</td>\n",
       "      <td>1.094510</td>\n",
       "      <td>1.133805</td>\n",
       "      <td>0.465550</td>\n",
       "      <td>00:33</td>\n",
       "    </tr>\n",
       "    <tr>\n",
       "      <td>12</td>\n",
       "      <td>1.089041</td>\n",
       "      <td>1.133283</td>\n",
       "      <td>0.470421</td>\n",
       "      <td>00:28</td>\n",
       "    </tr>\n",
       "    <tr>\n",
       "      <td>13</td>\n",
       "      <td>1.076636</td>\n",
       "      <td>1.133180</td>\n",
       "      <td>0.464362</td>\n",
       "      <td>00:22</td>\n",
       "    </tr>\n",
       "    <tr>\n",
       "      <td>14</td>\n",
       "      <td>1.086898</td>\n",
       "      <td>1.130785</td>\n",
       "      <td>0.461392</td>\n",
       "      <td>00:22</td>\n",
       "    </tr>\n",
       "    <tr>\n",
       "      <td>15</td>\n",
       "      <td>1.079250</td>\n",
       "      <td>1.146654</td>\n",
       "      <td>0.464956</td>\n",
       "      <td>00:23</td>\n",
       "    </tr>\n",
       "    <tr>\n",
       "      <td>16</td>\n",
       "      <td>1.060858</td>\n",
       "      <td>1.136347</td>\n",
       "      <td>0.462699</td>\n",
       "      <td>00:26</td>\n",
       "    </tr>\n",
       "    <tr>\n",
       "      <td>17</td>\n",
       "      <td>1.069872</td>\n",
       "      <td>1.124207</td>\n",
       "      <td>0.472202</td>\n",
       "      <td>00:27</td>\n",
       "    </tr>\n",
       "    <tr>\n",
       "      <td>18</td>\n",
       "      <td>1.043252</td>\n",
       "      <td>1.100641</td>\n",
       "      <td>0.487408</td>\n",
       "      <td>00:32</td>\n",
       "    </tr>\n",
       "    <tr>\n",
       "      <td>19</td>\n",
       "      <td>1.023388</td>\n",
       "      <td>1.087517</td>\n",
       "      <td>0.490853</td>\n",
       "      <td>00:26</td>\n",
       "    </tr>\n",
       "    <tr>\n",
       "      <td>20</td>\n",
       "      <td>1.017393</td>\n",
       "      <td>1.034515</td>\n",
       "      <td>0.519007</td>\n",
       "      <td>00:20</td>\n",
       "    </tr>\n",
       "    <tr>\n",
       "      <td>21</td>\n",
       "      <td>1.004533</td>\n",
       "      <td>1.060141</td>\n",
       "      <td>0.505464</td>\n",
       "      <td>00:28</td>\n",
       "    </tr>\n",
       "    <tr>\n",
       "      <td>22</td>\n",
       "      <td>0.955860</td>\n",
       "      <td>1.035801</td>\n",
       "      <td>0.516512</td>\n",
       "      <td>00:23</td>\n",
       "    </tr>\n",
       "    <tr>\n",
       "      <td>23</td>\n",
       "      <td>0.962200</td>\n",
       "      <td>1.053927</td>\n",
       "      <td>0.507365</td>\n",
       "      <td>00:28</td>\n",
       "    </tr>\n",
       "    <tr>\n",
       "      <td>24</td>\n",
       "      <td>0.965337</td>\n",
       "      <td>1.042482</td>\n",
       "      <td>0.516750</td>\n",
       "      <td>00:28</td>\n",
       "    </tr>\n",
       "    <tr>\n",
       "      <td>25</td>\n",
       "      <td>0.953350</td>\n",
       "      <td>1.062028</td>\n",
       "      <td>0.504633</td>\n",
       "      <td>00:25</td>\n",
       "    </tr>\n",
       "    <tr>\n",
       "      <td>26</td>\n",
       "      <td>0.958252</td>\n",
       "      <td>1.047495</td>\n",
       "      <td>0.518769</td>\n",
       "      <td>00:24</td>\n",
       "    </tr>\n",
       "    <tr>\n",
       "      <td>27</td>\n",
       "      <td>0.936173</td>\n",
       "      <td>1.043635</td>\n",
       "      <td>0.519838</td>\n",
       "      <td>00:27</td>\n",
       "    </tr>\n",
       "    <tr>\n",
       "      <td>28</td>\n",
       "      <td>0.924167</td>\n",
       "      <td>1.047470</td>\n",
       "      <td>0.518532</td>\n",
       "      <td>00:29</td>\n",
       "    </tr>\n",
       "    <tr>\n",
       "      <td>29</td>\n",
       "      <td>0.949189</td>\n",
       "      <td>1.047344</td>\n",
       "      <td>0.518413</td>\n",
       "      <td>00:21</td>\n",
       "    </tr>\n",
       "  </tbody>\n",
       "</table>"
      ],
      "text/plain": [
       "<IPython.core.display.HTML object>"
      ]
     },
     "metadata": {},
     "output_type": "display_data"
    },
    {
     "data": {
      "text/html": [
       "\n",
       "<style>\n",
       "    /* Turns off some styling */\n",
       "    progress {\n",
       "        /* gets rid of default border in Firefox and Opera. */\n",
       "        border: none;\n",
       "        /* Needs to be in here for Safari polyfill so background images work as expected. */\n",
       "        background-size: auto;\n",
       "    }\n",
       "    progress:not([value]), progress:not([value])::-webkit-progress-bar {\n",
       "        background: repeating-linear-gradient(45deg, #7e7e7e, #7e7e7e 10px, #5c5c5c 10px, #5c5c5c 20px);\n",
       "    }\n",
       "    .progress-bar-interrupted, .progress-bar-interrupted::-webkit-progress-bar {\n",
       "        background: #F44336;\n",
       "    }\n",
       "</style>\n"
      ],
      "text/plain": [
       "<IPython.core.display.HTML object>"
      ]
     },
     "metadata": {},
     "output_type": "display_data"
    },
    {
     "data": {
      "text/html": [],
      "text/plain": [
       "<IPython.core.display.HTML object>"
      ]
     },
     "metadata": {},
     "output_type": "display_data"
    },
    {
     "name": "stdout",
     "output_type": "stream",
     "text": [
      "Precision: 51.45%\n",
      "Recall: 52.89%\n",
      "Accuracy: 51.84%\n"
     ]
    },
    {
     "data": {
      "text/html": [
       "\n",
       "<style>\n",
       "    /* Turns off some styling */\n",
       "    progress {\n",
       "        /* gets rid of default border in Firefox and Opera. */\n",
       "        border: none;\n",
       "        /* Needs to be in here for Safari polyfill so background images work as expected. */\n",
       "        background-size: auto;\n",
       "    }\n",
       "    progress:not([value]), progress:not([value])::-webkit-progress-bar {\n",
       "        background: repeating-linear-gradient(45deg, #7e7e7e, #7e7e7e 10px, #5c5c5c 10px, #5c5c5c 20px);\n",
       "    }\n",
       "    .progress-bar-interrupted, .progress-bar-interrupted::-webkit-progress-bar {\n",
       "        background: #F44336;\n",
       "    }\n",
       "</style>\n"
      ],
      "text/plain": [
       "<IPython.core.display.HTML object>"
      ]
     },
     "metadata": {},
     "output_type": "display_data"
    },
    {
     "data": {
      "text/html": [],
      "text/plain": [
       "<IPython.core.display.HTML object>"
      ]
     },
     "metadata": {},
     "output_type": "display_data"
    },
    {
     "data": {
      "image/png": "[encoded data removed]",
      "text/plain": [
       "<Figure size 700x600 with 2 Axes>"
      ]
     },
     "metadata": {},
     "output_type": "display_data"
    },
    {
     "name": "stdout",
     "output_type": "stream",
     "text": [
      "CPU times: total: 23min 48s\n",
      "Wall time: 12min 13s\n"
     ]
    }
   ],
   "source": [
    "class TSAILearner:\n",
    "\n",
    "    def __init__(self, seed=42, max_learning_rate=0.01, num_epochs=150):\n",
    "        \"\"\"\n",
    "        Initializes the TAILearner instance with provided configurations.\n",
    "        \"\"\"\n",
    "        self.seed = seed\n",
    "        self.max_learning_rate = max_learning_rate\n",
    "        self.num_epochs = num_epochs\n",
    "        self.seed_everything()\n",
    "\n",
    "    def seed_everything(self):\n",
    "        \"\"\"\n",
    "        Seeds all random number generators to ensure reproducibility.\n",
    "        \"\"\"\n",
    "        random.seed(self.seed)\n",
    "        np.random.seed(self.seed)\n",
    "        torch.manual_seed(self.seed)\n",
    "        torch.cuda.manual_seed_all(self.seed)\n",
    "        torch.backends.cudnn.deterministic = True\n",
    "        torch.backends.cudnn.benchmark = False\n",
    "\n",
    "    def load_csv(self, filename):\n",
    "        \"\"\"\n",
    "        Loads a CSV file from the specified base folder.\n",
    "        \"\"\"\n",
    "        #base_folder = Path(\"/polyaxon-v1-data/workspaces/data/4 bin merged proxy revenue data\")\n",
    "        base_folder = Path(\"../data/06_models_specific_preprocessing/4_bins_v2\")        \n",
    "        \n",
    "        return pd.read_csv(base_folder / filename, index_col=0, parse_dates=[\"date\"])\n",
    "\n",
    "    def drop_cols(self, df, string):\n",
    "        \"\"\"\n",
    "        Drops columns from dataframe which contain the specified string.\n",
    "        \"\"\"\n",
    "        cols_to_drop = [col for col in df.columns if string in col]\n",
    "        return df.drop(cols_to_drop, axis=1)\n",
    "\n",
    "    def load_data(self):\n",
    "        \"\"\"\n",
    "        Loads training and test datasets.\n",
    "        \"\"\"\n",
    "        # Loading datasets\n",
    "        self.X_train = self.load_csv(\"X_train_8_bins_proxy_revenue_individual_binning.csv\")\n",
    "        self.X_test = self.load_csv(\"X_test_8_bins_proxy_revenue_individual_binning.csv\")\n",
    "        self.y_train = self.load_csv(\"y_train_8_bins_proxy_revenue_individual_binning.csv\")\n",
    "        self.y_test = self.load_csv(\"y_test_8_bins_proxy_revenue_individual_binning.csv\")\n",
    "\n",
    "        # Dropping unnecessary columns contain 'cost_centre_code'\n",
    "        self.X_train = self.drop_cols(self.X_train, 'cost_centre_code')\n",
    "        self.X_test = self.drop_cols(self.X_test, 'cost_centre_code')\n",
    "\n",
    "        print(\n",
    "            \"X_train, X_test shape\",\n",
    "            type(self.X_train),\n",
    "            self.X_train.shape,\n",
    "            type(self.X_test),\n",
    "            self.X_test.shape,\n",
    "        )\n",
    "\n",
    "        self.X = pd.concat([self.X_train, self.X_test])\n",
    "        self.y = pd.concat([self.y_train, self.y_test])\n",
    "\n",
    "        self.X, self.y, self.splits = combine_split_data(\n",
    "            [self.X_train, self.X_test], [self.y_train, self.y_test]\n",
    "        ) # so tsai uses X and y only and not X train and test etc. self.plits will contain the percentage of train and test splits. \n",
    "        self.y = self.y.values.flatten()\n",
    "\n",
    "    def create_dls(self, tfms=[None, TSClassification()], batch_tfms=TSStandardize(), bs=[64, 128]): \n",
    "        \"\"\"Creates a DataLoader for the time series data with specified transforms and batch sizes.\n",
    "        1. tfms is transfomer. TSClassification: Vectorized, reversible transform of category string to vocab id.\n",
    "        2. TSStandardize: Standardizes batch of type TSTensor.\n",
    "        3. batch size\n",
    "        \"\"\"\n",
    "        self.dls = get_ts_dls(\n",
    "            torch.from_numpy(self.X.astype(np.float64)),\n",
    "            torch.from_numpy(self.y),\n",
    "            splits=self.splits, # here will split the X and y again.\n",
    "            tfms=tfms,\n",
    "            batch_tfms=batch_tfms,\n",
    "            bs=bs,\n",
    "        )\n",
    "\n",
    "    def build_learner(self):\n",
    "        \"\"\"Builds a learner object with a LSTM model and accuracy metrics.\"\"\"\n",
    "        model = build_ts_model(LSTM, dls=self.dls)\n",
    "        self.learn = Learner(self.dls, model, metrics=accuracy)\n",
    "\n",
    "    def train(self):\n",
    "        \"\"\"Trains the model using a one-cycle policy with specified epochs and max learning rate.\"\"\"\n",
    "        self.learn.fit_one_cycle(\n",
    "            self.num_epochs, lr_max=self.max_learning_rate)\n",
    "\n",
    "    def export_model(self):\n",
    "        \"\"\"Exports the trained model to a specified path.\"\"\"\n",
    "        path = Path(\"../data/08_model_checkpoints/AZ_LSTM.pkl\")\n",
    "        path.parent.mkdir(parents=True, exist_ok=True)\n",
    "        self.learn.export(path)\n",
    "\n",
    "    def print_scores(self):\n",
    "        \"\"\"Calculates and prints the precision, recall, and accuracy of the model's predictions.\"\"\"\n",
    "        # Set the model to evaluation mode for model's predictions\n",
    "        self.learn.model.eval()  \n",
    "        preds, targs = self.learn.get_preds() \n",
    "        preds = np.argmax(preds, axis=1)\n",
    "\n",
    "        accuracy = accuracy_score(targs, preds)\n",
    "        precision = precision_score(targs, preds, average=\"macro\")\n",
    "        recall = recall_score(targs, preds, average=\"macro\")\n",
    "\n",
    "        print(\"Precision: {:.2%}\".format(precision))\n",
    "        print(\"Recall: {:.2%}\".format(recall))\n",
    "        print(\"Accuracy: {:.2%}\".format(accuracy))\n",
    "    \n",
    "    def plot_performance_matrix(self):\n",
    "        \"\"\"Plots a confusion matrix for the model's predictions using descriptive labels.\"\"\"\n",
    "        target_mapping = {\n",
    "            0: \"Low\",\n",
    "            1: \"Medium\",\n",
    "            2: \"High\",\n",
    "            3: \"Exceptional\"\n",
    "        }\n",
    "\n",
    "        # Set the model to evaluation mode for model's predictions\n",
    "        self.learn.model.eval()  \n",
    "        preds, targs = self.learn.get_preds() \n",
    "        preds = np.argmax(preds, axis=1)\n",
    "\n",
    "        # Compute the confusion matrix\n",
    "        cm = confusion_matrix(targs, preds)\n",
    "\n",
    "        # Plot the confusion matrix\n",
    "        plt.figure(figsize=(7, 6))\n",
    "        sns.heatmap(\n",
    "            cm,\n",
    "            annot=True,\n",
    "            fmt=\"d\",\n",
    "            cmap=\"Blues\",\n",
    "            xticklabels=target_mapping.values(),  \n",
    "            yticklabels=target_mapping.values(),  \n",
    "        )\n",
    "        plt.title(\"Confusion matrix\")\n",
    "        plt.ylabel(\"True label\")\n",
    "        plt.xlabel(\"Predicted label\")\n",
    "        plt.show()\n",
    "\n",
    "    def run(self):\n",
    "        \"\"\"Runs the entire data processing, model building, training, and evaluation pipeline.\"\"\"\n",
    "        self.load_data()\n",
    "        self.create_dls()\n",
    "        self.build_learner()\n",
    "        self.train()\n",
    "        # self.export_model()\n",
    "        self.print_scores()\n",
    "        self.plot_performance_matrix()\n",
    "\n",
    "\n",
    "if __name__ == \"__main__\":\n",
    "    tsai_learner = TSAILearner(seed=24, max_learning_rate=0.01, num_epochs=30) #set the training parameters here\n",
    "    tsai_learner.run()\n"
   ]
  },
  {
   "attachments": {},
   "cell_type": "markdown",
   "metadata": {},
   "source": [
    "## Experiment on latest dataset\n",
    "- Location of data: `data/06_model_specific_preprocessing`\n",
    "- Example used here: `v7_4_expand_30day_23_10_23`\n",
    "\n",
    "### Stacked dataset v2 (4 bins & 30 epochs)\n",
    "- CPU times: total: 23min 48s\n",
    "- Wall time: 12min 13s\n",
    "- Precision: 51.45%\n",
    "- Recall: 52.89%\n",
    "- Accuracy: 51.84% "
   ]
  },
  {
   "cell_type": "code",
   "execution_count": 4,
   "metadata": {},
   "outputs": [
    {
     "name": "stdout",
     "output_type": "stream",
     "text": [
      "CPU times: user 368 µs, sys: 148 µs, total: 516 µs\n",
      "Wall time: 524 µs\n"
     ]
    }
   ],
   "source": [
    "%%time\n",
    "import random\n",
    "import pandas as pd\n",
    "import numpy as np\n",
    "import torch\n",
    "from tsai.all import *\n",
    "from pathlib import Path\n",
    "from sklearn.metrics import (\n",
    "    confusion_matrix,\n",
    "    accuracy_score,\n",
    "    precision_score,\n",
    "    recall_score,\n",
    ")\n",
    "import matplotlib.pyplot as plt\n",
    "import seaborn as sns"
   ]
  },
  {
   "attachments": {},
   "cell_type": "markdown",
   "metadata": {},
   "source": [
    "### 1. Prepare data\n",
    "- Convert the `X_train`/`X_test` and `y_train`/`y_test` to `X` and `y` respectively. \n",
    "- Flatten `y` - convert it into a 1D array\n",
    "- [`combine_split_data` reference](https://timeseriesai.github.io/tsai/data.validation.html)"
   ]
  },
  {
   "cell_type": "code",
   "execution_count": 5,
   "metadata": {},
   "outputs": [],
   "source": [
    "def load_data(X_train, X_test, y_train, y_test):\n",
    "    \"\"\"\n",
    "    Loads training and test datasets.\n",
    "    \"\"\"\n",
    "\n",
    "    print(\n",
    "        \"X_train, X_test shape\",\n",
    "        type(X_train),\n",
    "        X_train.shape,\n",
    "        type(X_test),\n",
    "        X_test.shape,\n",
    "    )\n",
    "    \n",
    "    # Convert y to float or int\n",
    "    mapping = {'Low': 0, 'Medium': 1, 'High': 2, 'Exceptional': 3}\n",
    "    y_train['binned_proxyrevenue'] = y_train['binned_proxyrevenue'].map(mapping)\n",
    "    y_test['binned_proxyrevenue'] = y_test['binned_proxyrevenue'].map(mapping)\n",
    "\n",
    "    # combine and return the inital split ratios \n",
    "    X, y, splits = combine_split_data(\n",
    "        [X_train, X_test], [y_train, y_test]\n",
    "    )\n",
    "    y = y.values.flatten()\n",
    "    return X, y, splits"
   ]
  },
  {
   "cell_type": "code",
   "execution_count": 6,
   "metadata": {},
   "outputs": [],
   "source": [
    "# Loading input data datasets\n",
    "X_train = pd.read_csv(\"/polyaxon-v1-data/workspaces/jongching/working_branch/235_update-lstm-notebook-2/data/06_model_specific_preprocessing_no_ts_mm/ebm_model/train/training_fold1_expanding_window_param_X.csv\", index_col=0, parse_dates=[\"Date\"])\n",
    "X_test = pd.read_csv(\"/polyaxon-v1-data/workspaces/jongching/working_branch/235_update-lstm-notebook-2/data/06_model_specific_preprocessing_no_ts_mm/ebm_model/validation/validation_fold1_expanding_window_param_X.csv\", index_col=0, parse_dates=[\"Date\"])\n",
    "y_train = pd.read_csv(\"/polyaxon-v1-data/workspaces/jongching/working_branch/235_update-lstm-notebook-2/data/06_model_specific_preprocessing_no_ts_mm/ebm_model/train/training_fold1_expanding_window_param_y.csv\", index_col=0, parse_dates=[\"Date\"])\n",
    "y_test = pd.read_csv(\"/polyaxon-v1-data/workspaces/jongching/working_branch/235_update-lstm-notebook-2/data/06_model_specific_preprocessing_no_ts_mm/ebm_model/validation/validation_fold1_expanding_window_param_y.csv\", index_col=0, parse_dates=[\"Date\"])"
   ]
  },
  {
   "cell_type": "code",
   "execution_count": 7,
   "metadata": {},
   "outputs": [
    {
     "name": "stdout",
     "output_type": "stream",
     "text": [
      "X_train, X_test shape <class 'pandas.core.frame.DataFrame'> (19893, 23) <class 'pandas.core.frame.DataFrame'> (1710, 23)\n"
     ]
    }
   ],
   "source": [
    "X, y, splits = load_data(X_train, X_test, y_train, y_test)"
   ]
  },
  {
   "cell_type": "code",
   "execution_count": 6,
   "metadata": {},
   "outputs": [
    {
     "name": "stdout",
     "output_type": "stream",
     "text": [
      "Train split: 19893\n",
      "Test split: 1710\n"
     ]
    }
   ],
   "source": [
    "# outputs\n",
    "print (\"Train split:\", len(splits[0]))\n",
    "print (\"Test split:\", len(splits[1]))"
   ]
  },
  {
   "attachments": {},
   "cell_type": "markdown",
   "metadata": {},
   "source": [
    "### 2. Create data loader\n",
    "\n",
    "#### 2.1. `TSClassification`\n",
    "- A transformation or encoding method used for converting categorical string values into numerical values specifically for time series data or time series classification tasks ([reference](https://timeseriesai.github.io/tsai/data.core.html))\n",
    "\n",
    "#### 2.2. `TSStandardize`\n",
    "- Standardizes batch of type TSTensor ([reference](https://timeseriesai.github.io/tsai/data.preprocessing.html#tsstandardize))\n",
    "\n",
    "Note that our current dataset has already been encoded and standardised. But to showcase `get_ts_dls` function, this notebook includes `TSClassification` and `TSStandardize`."
   ]
  },
  {
   "cell_type": "code",
   "execution_count": 7,
   "metadata": {},
   "outputs": [],
   "source": [
    "def create_dls(tfms=[None, TSClassification()], batch_tfms=TSStandardize(), bs=[64, 128]):\n",
    "    \"\"\"Creates a DataLoader for the time series data with specified transforms and batch sizes.\n",
    "    1. convert X and y to PyTorch tensor\n",
    "    2. splits: data splits for training and validation\n",
    "    3. tfms: a list of transformation applied to the dataset. By default, the only transformation done is TSClassification()\n",
    "    4. batch_tfms: transformations applied to batches of data. The default TSStandardize() implies standardization of batches.\n",
    "    5. bs: defines batch sizes for training and validation data. The default [64, 128] sets two different batch sizes.\n",
    "    \"\"\"\n",
    "    dls = get_ts_dls(\n",
    "        torch.from_numpy(X.astype(np.float64)),\n",
    "        torch.from_numpy(y),\n",
    "        splits=splits,\n",
    "        tfms=tfms,\n",
    "        batch_tfms=batch_tfms,\n",
    "        bs=bs,\n",
    "    )\n",
    "    return dls"
   ]
  },
  {
   "cell_type": "code",
   "execution_count": 8,
   "metadata": {},
   "outputs": [],
   "source": [
    "dls = create_dls()"
   ]
  },
  {
   "attachments": {},
   "cell_type": "markdown",
   "metadata": {},
   "source": [
    "### 3. Build a learner and train model\n",
    "- [`build_ts_model` reference](https://timeseriesai.github.io/tsai/models.utils.html#build_ts_model)\n",
    "- [`Learner` reference](https://timeseriesai.github.io/tsai/learner.html)"
   ]
  },
  {
   "cell_type": "code",
   "execution_count": 9,
   "metadata": {},
   "outputs": [],
   "source": [
    "def build_learner(dls):\n",
    "    \"\"\"Builds a learner object with a LSTM model and accuracy metrics.\"\"\"\n",
    "    model = build_ts_model(LSTM, dls=dls) # specify the model of interest and dataloader\n",
    "    learn = Learner(dls, model, metrics=accuracy) # specify the metrics used for training\n",
    "    return learn\n",
    "def train(learn, num_epochs, max_learning_rate):\n",
    "    \"\"\"Trains the model using a one-cycle policy with specified epochs and max learning rate.\"\"\"\n",
    "    learn.fit_one_cycle(\n",
    "        num_epochs, lr_max=max_learning_rate) # model training hyperparams\n",
    "    return learn"
   ]
  },
  {
   "cell_type": "code",
   "execution_count": 10,
   "metadata": {},
   "outputs": [
    {
     "data": {
      "text/html": [
       "\n",
       "<style>\n",
       "    /* Turns off some styling */\n",
       "    progress {\n",
       "        /* gets rid of default border in Firefox and Opera. */\n",
       "        border: none;\n",
       "        /* Needs to be in here for Safari polyfill so background images work as expected. */\n",
       "        background-size: auto;\n",
       "    }\n",
       "    progress:not([value]), progress:not([value])::-webkit-progress-bar {\n",
       "        background: repeating-linear-gradient(45deg, #7e7e7e, #7e7e7e 10px, #5c5c5c 10px, #5c5c5c 20px);\n",
       "    }\n",
       "    .progress-bar-interrupted, .progress-bar-interrupted::-webkit-progress-bar {\n",
       "        background: #F44336;\n",
       "    }\n",
       "</style>\n"
      ],
      "text/plain": [
       "<IPython.core.display.HTML object>"
      ]
     },
     "metadata": {},
     "output_type": "display_data"
    },
    {
     "data": {
      "text/html": [
       "<table border=\"1\" class=\"dataframe\">\n",
       "  <thead>\n",
       "    <tr style=\"text-align: left;\">\n",
       "      <th>epoch</th>\n",
       "      <th>train_loss</th>\n",
       "      <th>valid_loss</th>\n",
       "      <th>accuracy</th>\n",
       "      <th>time</th>\n",
       "    </tr>\n",
       "  </thead>\n",
       "  <tbody>\n",
       "    <tr>\n",
       "      <td>0</td>\n",
       "      <td>1.371477</td>\n",
       "      <td>1.374065</td>\n",
       "      <td>0.312865</td>\n",
       "      <td>00:06</td>\n",
       "    </tr>\n",
       "    <tr>\n",
       "      <td>1</td>\n",
       "      <td>1.088212</td>\n",
       "      <td>1.161671</td>\n",
       "      <td>0.476608</td>\n",
       "      <td>00:07</td>\n",
       "    </tr>\n",
       "    <tr>\n",
       "      <td>2</td>\n",
       "      <td>1.090616</td>\n",
       "      <td>1.109860</td>\n",
       "      <td>0.456725</td>\n",
       "      <td>00:06</td>\n",
       "    </tr>\n",
       "    <tr>\n",
       "      <td>3</td>\n",
       "      <td>1.092260</td>\n",
       "      <td>1.110393</td>\n",
       "      <td>0.455556</td>\n",
       "      <td>00:06</td>\n",
       "    </tr>\n",
       "    <tr>\n",
       "      <td>4</td>\n",
       "      <td>1.064503</td>\n",
       "      <td>1.106058</td>\n",
       "      <td>0.461404</td>\n",
       "      <td>00:06</td>\n",
       "    </tr>\n",
       "  </tbody>\n",
       "</table>"
      ],
      "text/plain": [
       "<IPython.core.display.HTML object>"
      ]
     },
     "metadata": {},
     "output_type": "display_data"
    }
   ],
   "source": [
    "model = build_learner(dls)\n",
    "trained_model = train(model, num_epochs=5, max_learning_rate=0.01)"
   ]
  },
  {
   "attachments": {},
   "cell_type": "markdown",
   "metadata": {},
   "source": [
    "### 4. Model evaluation"
   ]
  },
  {
   "cell_type": "code",
   "execution_count": 11,
   "metadata": {},
   "outputs": [],
   "source": [
    "def print_scores(trained_model):\n",
    "    \"\"\"Calculates and prints the precision, recall, and accuracy of the model's predictions.\"\"\"\n",
    "    # Set the model to evaluation mode for model's predictions\n",
    "    trained_model.model.eval()  \n",
    "    preds, targs = trained_model.get_preds() \n",
    "    preds = np.argmax(preds, axis=1)\n",
    "\n",
    "    accuracy = accuracy_score(targs, preds)\n",
    "    precision = precision_score(targs, preds, average=\"macro\")\n",
    "    recall = recall_score(targs, preds, average=\"macro\")\n",
    "\n",
    "    print(\"Precision: {:.2%}\".format(precision))\n",
    "    print(\"Recall: {:.2%}\".format(recall))\n",
    "    print(\"Accuracy: {:.2%}\".format(accuracy))\n",
    "\n",
    "def plot_performance_matrix(trained_model):\n",
    "    \"\"\"Plots a confusion matrix for the model's predictions using descriptive labels.\"\"\"\n",
    "    target_mapping = {\n",
    "        0: \"Low\",\n",
    "        1: \"Medium\",\n",
    "        2: \"High\",\n",
    "        3: \"Exceptional\"\n",
    "    }\n",
    "\n",
    "    # Set the model to evaluation mode for model's predictions\n",
    "    trained_model.model.eval()  \n",
    "    preds, targs = trained_model.get_preds() \n",
    "    preds = np.argmax(preds, axis=1)\n",
    "\n",
    "    # Compute the confusion matrix\n",
    "    cm = confusion_matrix(targs, preds)\n",
    "\n",
    "    # Plot the confusion matrix\n",
    "    plt.figure(figsize=(7, 6))\n",
    "    sns.heatmap(\n",
    "        cm,\n",
    "        annot=True,\n",
    "        fmt=\"d\",\n",
    "        cmap=\"Blues\",\n",
    "        xticklabels=target_mapping.values(), \n",
    "        yticklabels=target_mapping.values(), \n",
    "    )\n",
    "    plt.title(\"Confusion matrix\")\n",
    "    plt.ylabel(\"True label\")\n",
    "    plt.xlabel(\"Predicted label\")\n",
    "    plt.show()"
   ]
  },
  {
   "cell_type": "code",
   "execution_count": 12,
   "metadata": {},
   "outputs": [
    {
     "data": {
      "text/html": [
       "\n",
       "<style>\n",
       "    /* Turns off some styling */\n",
       "    progress {\n",
       "        /* gets rid of default border in Firefox and Opera. */\n",
       "        border: none;\n",
       "        /* Needs to be in here for Safari polyfill so background images work as expected. */\n",
       "        background-size: auto;\n",
       "    }\n",
       "    progress:not([value]), progress:not([value])::-webkit-progress-bar {\n",
       "        background: repeating-linear-gradient(45deg, #7e7e7e, #7e7e7e 10px, #5c5c5c 10px, #5c5c5c 20px);\n",
       "    }\n",
       "    .progress-bar-interrupted, .progress-bar-interrupted::-webkit-progress-bar {\n",
       "        background: #F44336;\n",
       "    }\n",
       "</style>\n"
      ],
      "text/plain": [
       "<IPython.core.display.HTML object>"
      ]
     },
     "metadata": {},
     "output_type": "display_data"
    },
    {
     "data": {
      "text/html": [
       "\n",
       "    <div>\n",
       "      <progress value='2' class='' max='14' style='width:300px; height:20px; vertical-align: middle;'></progress>\n",
       "      14.29% [2/14 00:00&lt;00:00 1.0645]\n",
       "    </div>\n",
       "    "
      ],
      "text/plain": [
       "<IPython.core.display.HTML object>"
      ]
     },
     "metadata": {},
     "output_type": "display_data"
    },
    {
     "name": "stdout",
     "output_type": "stream",
     "text": [
      "Precision: 44.96%\n",
      "Recall: 46.83%\n",
      "Accuracy: 46.14%\n"
     ]
    },
    {
     "data": {
      "text/html": [
       "\n",
       "<style>\n",
       "    /* Turns off some styling */\n",
       "    progress {\n",
       "        /* gets rid of default border in Firefox and Opera. */\n",
       "        border: none;\n",
       "        /* Needs to be in here for Safari polyfill so background images work as expected. */\n",
       "        background-size: auto;\n",
       "    }\n",
       "    progress:not([value]), progress:not([value])::-webkit-progress-bar {\n",
       "        background: repeating-linear-gradient(45deg, #7e7e7e, #7e7e7e 10px, #5c5c5c 10px, #5c5c5c 20px);\n",
       "    }\n",
       "    .progress-bar-interrupted, .progress-bar-interrupted::-webkit-progress-bar {\n",
       "        background: #F44336;\n",
       "    }\n",
       "</style>\n"
      ],
      "text/plain": [
       "<IPython.core.display.HTML object>"
      ]
     },
     "metadata": {},
     "output_type": "display_data"
    },
    {
     "data": {
      "text/html": [],
      "text/plain": [
       "<IPython.core.display.HTML object>"
      ]
     },
     "metadata": {},
     "output_type": "display_data"
    },
    {
     "data": {
      "image/png": "[encoded data removed]",
      "text/plain": [
       "<Figure size 700x600 with 2 Axes>"
      ]
     },
     "metadata": {},
     "output_type": "display_data"
    }
   ],
   "source": [
    "print_scores(trained_model)\n",
    "plot_performance_matrix(trained_model)"
   ]
  }
 ],
 "metadata": {
  "kernelspec": {
   "display_name": "bipo_dev",
   "language": "python",
   "name": "python3"
  },
  "language_info": {
   "codemirror_mode": {
    "name": "ipython",
    "version": 3
   },
   "file_extension": ".py",
   "mimetype": "text/x-python",
   "name": "python",
   "nbconvert_exporter": "python",
   "pygments_lexer": "ipython3",
   "version": "3.8.0"
  },
  "orig_nbformat": 4
 },
 "nbformat": 4,
 "nbformat_minor": 2
}
